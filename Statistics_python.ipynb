{
  "nbformat": 4,
  "nbformat_minor": 0,
  "metadata": {
    "colab": {
      "name": "Statistics_python.ipynb",
      "provenance": [],
      "collapsed_sections": [
        "2s1HwVx-8VWu",
        "aJQSLtw1Eaxx"
      ],
      "authorship_tag": "ABX9TyNJxHnDOcIZACYrbA5gNWWE",
      "include_colab_link": true
    },
    "kernelspec": {
      "name": "python3",
      "display_name": "Python 3"
    }
  },
  "cells": [
    {
      "cell_type": "markdown",
      "metadata": {
        "id": "view-in-github",
        "colab_type": "text"
      },
      "source": [
        "<a href=\"https://colab.research.google.com/github/nikpbn/Python-Pracs/blob/main/Statistics_python.ipynb\" target=\"_parent\"><img src=\"https://colab.research.google.com/assets/colab-badge.svg\" alt=\"Open In Colab\"/></a>"
      ]
    },
    {
      "cell_type": "markdown",
      "metadata": {
        "id": "2s1HwVx-8VWu"
      },
      "source": [
        "# Statistics"
      ]
    },
    {
      "cell_type": "code",
      "metadata": {
        "colab": {
          "base_uri": "https://localhost:8080/",
          "height": 293
        },
        "id": "S7cKrIFY8bIC",
        "outputId": "3869a716-421f-4f92-f28a-953b081d1d4f"
      },
      "source": [
        "import pandas as pd\n",
        "\n",
        "url='https://raw.githubusercontent.com/nikpbn/Python-Study/main/MELBOURNE_HOUSE_PRICES_LESS.csv?token=AFJ5EU5TVT5ZDYZOCU5GDJC7Y4UTO'\n",
        "df = pd.read_csv(url)\n",
        "df.head()"
      ],
      "execution_count": 2,
      "outputs": [
        {
          "output_type": "execute_result",
          "data": {
            "text/html": [
              "<div>\n",
              "<style scoped>\n",
              "    .dataframe tbody tr th:only-of-type {\n",
              "        vertical-align: middle;\n",
              "    }\n",
              "\n",
              "    .dataframe tbody tr th {\n",
              "        vertical-align: top;\n",
              "    }\n",
              "\n",
              "    .dataframe thead th {\n",
              "        text-align: right;\n",
              "    }\n",
              "</style>\n",
              "<table border=\"1\" class=\"dataframe\">\n",
              "  <thead>\n",
              "    <tr style=\"text-align: right;\">\n",
              "      <th></th>\n",
              "      <th>Suburb</th>\n",
              "      <th>Address</th>\n",
              "      <th>Rooms</th>\n",
              "      <th>Type</th>\n",
              "      <th>Price</th>\n",
              "      <th>Method</th>\n",
              "      <th>SellerG</th>\n",
              "      <th>Date</th>\n",
              "      <th>Postcode</th>\n",
              "      <th>Regionname</th>\n",
              "      <th>Propertycount</th>\n",
              "      <th>Distance</th>\n",
              "      <th>CouncilArea</th>\n",
              "    </tr>\n",
              "  </thead>\n",
              "  <tbody>\n",
              "    <tr>\n",
              "      <th>0</th>\n",
              "      <td>Abbotsford</td>\n",
              "      <td>49 Lithgow St</td>\n",
              "      <td>3</td>\n",
              "      <td>h</td>\n",
              "      <td>1490000.0</td>\n",
              "      <td>S</td>\n",
              "      <td>Jellis</td>\n",
              "      <td>1/04/2017</td>\n",
              "      <td>3067</td>\n",
              "      <td>Northern Metropolitan</td>\n",
              "      <td>4019</td>\n",
              "      <td>3.0</td>\n",
              "      <td>Yarra City Council</td>\n",
              "    </tr>\n",
              "    <tr>\n",
              "      <th>1</th>\n",
              "      <td>Abbotsford</td>\n",
              "      <td>59A Turner St</td>\n",
              "      <td>3</td>\n",
              "      <td>h</td>\n",
              "      <td>1220000.0</td>\n",
              "      <td>S</td>\n",
              "      <td>Marshall</td>\n",
              "      <td>1/04/2017</td>\n",
              "      <td>3067</td>\n",
              "      <td>Northern Metropolitan</td>\n",
              "      <td>4019</td>\n",
              "      <td>3.0</td>\n",
              "      <td>Yarra City Council</td>\n",
              "    </tr>\n",
              "    <tr>\n",
              "      <th>2</th>\n",
              "      <td>Abbotsford</td>\n",
              "      <td>119B Yarra St</td>\n",
              "      <td>3</td>\n",
              "      <td>h</td>\n",
              "      <td>1420000.0</td>\n",
              "      <td>S</td>\n",
              "      <td>Nelson</td>\n",
              "      <td>1/04/2017</td>\n",
              "      <td>3067</td>\n",
              "      <td>Northern Metropolitan</td>\n",
              "      <td>4019</td>\n",
              "      <td>3.0</td>\n",
              "      <td>Yarra City Council</td>\n",
              "    </tr>\n",
              "    <tr>\n",
              "      <th>3</th>\n",
              "      <td>Aberfeldie</td>\n",
              "      <td>68 Vida St</td>\n",
              "      <td>3</td>\n",
              "      <td>h</td>\n",
              "      <td>1515000.0</td>\n",
              "      <td>S</td>\n",
              "      <td>Barry</td>\n",
              "      <td>1/04/2017</td>\n",
              "      <td>3040</td>\n",
              "      <td>Western Metropolitan</td>\n",
              "      <td>1543</td>\n",
              "      <td>7.5</td>\n",
              "      <td>Moonee Valley City Council</td>\n",
              "    </tr>\n",
              "    <tr>\n",
              "      <th>4</th>\n",
              "      <td>Airport West</td>\n",
              "      <td>92 Clydesdale Rd</td>\n",
              "      <td>2</td>\n",
              "      <td>h</td>\n",
              "      <td>670000.0</td>\n",
              "      <td>S</td>\n",
              "      <td>Nelson</td>\n",
              "      <td>1/04/2017</td>\n",
              "      <td>3042</td>\n",
              "      <td>Western Metropolitan</td>\n",
              "      <td>3464</td>\n",
              "      <td>10.4</td>\n",
              "      <td>Moonee Valley City Council</td>\n",
              "    </tr>\n",
              "  </tbody>\n",
              "</table>\n",
              "</div>"
            ],
            "text/plain": [
              "         Suburb           Address  ...  Distance                 CouncilArea\n",
              "0    Abbotsford     49 Lithgow St  ...       3.0          Yarra City Council\n",
              "1    Abbotsford     59A Turner St  ...       3.0          Yarra City Council\n",
              "2    Abbotsford     119B Yarra St  ...       3.0          Yarra City Council\n",
              "3    Aberfeldie        68 Vida St  ...       7.5  Moonee Valley City Council\n",
              "4  Airport West  92 Clydesdale Rd  ...      10.4  Moonee Valley City Council\n",
              "\n",
              "[5 rows x 13 columns]"
            ]
          },
          "metadata": {
            "tags": []
          },
          "execution_count": 2
        }
      ]
    },
    {
      "cell_type": "markdown",
      "metadata": {
        "id": "6GC1tVzl8ULH"
      },
      "source": [
        "2.1 Mean\n",
        "\n",
        "Mean is an average of all the numbers."
      ]
    },
    {
      "cell_type": "code",
      "metadata": {
        "colab": {
          "base_uri": "https://localhost:8080/"
        },
        "id": "4zJ0xM9--GCc",
        "outputId": "2fba7abb-ef3a-4631-c1a2-da054c05f61d"
      },
      "source": [
        "df.info()\n",
        "# Show the datatype of each variable/Columns\n",
        "# object datatype denotes the categorical data and float/int64 denotes numeric data"
      ],
      "execution_count": 3,
      "outputs": [
        {
          "output_type": "stream",
          "text": [
            "<class 'pandas.core.frame.DataFrame'>\n",
            "RangeIndex: 63023 entries, 0 to 63022\n",
            "Data columns (total 13 columns):\n",
            " #   Column         Non-Null Count  Dtype  \n",
            "---  ------         --------------  -----  \n",
            " 0   Suburb         63023 non-null  object \n",
            " 1   Address        63023 non-null  object \n",
            " 2   Rooms          63023 non-null  int64  \n",
            " 3   Type           63023 non-null  object \n",
            " 4   Price          48433 non-null  float64\n",
            " 5   Method         63023 non-null  object \n",
            " 6   SellerG        63023 non-null  object \n",
            " 7   Date           63023 non-null  object \n",
            " 8   Postcode       63023 non-null  int64  \n",
            " 9   Regionname     63023 non-null  object \n",
            " 10  Propertycount  63023 non-null  int64  \n",
            " 11  Distance       63023 non-null  float64\n",
            " 12  CouncilArea    63023 non-null  object \n",
            "dtypes: float64(2), int64(3), object(8)\n",
            "memory usage: 6.3+ MB\n"
          ],
          "name": "stdout"
        }
      ]
    },
    {
      "cell_type": "code",
      "metadata": {
        "id": "pcH5mUH5-JxQ"
      },
      "source": [
        "# “What is the most typical value of the house price in our dataset?”. \n",
        "# To address this question, we can resort to the two most common measures of center: mean and median."
      ],
      "execution_count": 4,
      "outputs": []
    },
    {
      "cell_type": "code",
      "metadata": {
        "colab": {
          "base_uri": "https://localhost:8080/"
        },
        "id": "wYEswNDOCG7X",
        "outputId": "d158b691-35f7-4136-a54f-6f5c83dc75ef"
      },
      "source": [
        "average = df['Price'].mean()\n",
        "print(average)"
      ],
      "execution_count": 6,
      "outputs": [
        {
          "output_type": "stream",
          "text": [
            "997898.2414882415\n"
          ],
          "name": "stdout"
        }
      ]
    },
    {
      "cell_type": "markdown",
      "metadata": {
        "id": "4LGPGF7oAjXD"
      },
      "source": [
        "2.2 Median\n",
        "\n",
        "Median is the middle value of a sorted list of numbers."
      ]
    },
    {
      "cell_type": "code",
      "metadata": {
        "colab": {
          "base_uri": "https://localhost:8080/"
        },
        "id": "4pESO3cfApFL",
        "outputId": "887ce9dc-56dc-49e3-d552-1a59056701a2"
      },
      "source": [
        "med = df['Price'].median()\n",
        "print(med)"
      ],
      "execution_count": 10,
      "outputs": [
        {
          "output_type": "stream",
          "text": [
            "830000.0\n"
          ],
          "name": "stdout"
        }
      ]
    },
    {
      "cell_type": "code",
      "metadata": {
        "colab": {
          "base_uri": "https://localhost:8080/"
        },
        "id": "IkRpG7IFCX0s",
        "outputId": "c1466dcf-4ace-45a7-b4f7-abb7121b9799"
      },
      "source": [
        "mode = df['Price'].mode()\n",
        "print(mode)"
      ],
      "execution_count": 11,
      "outputs": [
        {
          "output_type": "stream",
          "text": [
            "0    600000.0\n",
            "dtype: float64\n"
          ],
          "name": "stdout"
        }
      ]
    },
    {
      "cell_type": "code",
      "metadata": {
        "id": "seGR0oYqDTz3"
      },
      "source": [
        ""
      ],
      "execution_count": null,
      "outputs": []
    },
    {
      "cell_type": "markdown",
      "metadata": {
        "id": "LPkEudocD0vx"
      },
      "source": [
        "2.3 Standard Deviation\n",
        "\n",
        "The SD is just a measurement to tell how a set of values spread out from their mean.\n",
        "A low SD shows that the values are close to the mean and a high SD shows a high diversion from the mean."
      ]
    },
    {
      "cell_type": "markdown",
      "metadata": {
        "id": "BJYCXuGWEKxK"
      },
      "source": [
        "The steps to calculate SD are as follows:\n",
        "\n",
        "    1. Calculate the mean of a dataset\n",
        "    2. For each number in the dataset, subtract it with the mean\n",
        "    3. Square the difference obtained from Step 2\n",
        "    4. Sum up the results from Step 3\n",
        "    5. Divide the summation from Step 4 by the number of values in the dataset minus one\n",
        "    6. Square root the result from Step 5"
      ]
    },
    {
      "cell_type": "code",
      "metadata": {
        "colab": {
          "base_uri": "https://localhost:8080/"
        },
        "id": "PfMYIBQlD8Cn",
        "outputId": "b4bc2073-dcdf-422c-ef5e-a3ee90d4e8b0"
      },
      "source": [
        "standard_deviation = df['Price'].std()\n",
        "print(standard_deviation)"
      ],
      "execution_count": 12,
      "outputs": [
        {
          "output_type": "stream",
          "text": [
            "593498.9190372757\n"
          ],
          "name": "stdout"
        }
      ]
    },
    {
      "cell_type": "code",
      "metadata": {
        "id": "gOaKDt-VERe4"
      },
      "source": [
        ""
      ],
      "execution_count": null,
      "outputs": []
    },
    {
      "cell_type": "markdown",
      "metadata": {
        "id": "aJQSLtw1Eaxx"
      },
      "source": [
        "# Graphical Representation of data"
      ]
    },
    {
      "cell_type": "markdown",
      "metadata": {
        "id": "A4igCs2kEY2K"
      },
      "source": [
        "4.1 Boxplot\n",
        "\n",
        "One approach to reveal the data distribution is to find a Five-Number Summary from our dataset. The Five-Number Summary includes:\n",
        "\n",
        "    The minimum\n",
        "    The 25th percentile or the first quartile (Q1)\n",
        "    The median\n",
        "    The 75th percentile or the third quartile (Q3)\n",
        "    The maximum"
      ]
    },
    {
      "cell_type": "code",
      "metadata": {
        "colab": {
          "base_uri": "https://localhost:8080/",
          "height": 296
        },
        "id": "bDvwvCbfFmqC",
        "outputId": "99890330-ab87-4f4f-c18a-f286c3e8fb09"
      },
      "source": [
        "import matplotlib.pyplot as plt\n",
        "import seaborn as sns\n",
        "\n",
        "%matplotlib inline\n",
        "ax = sns.boxplot(x='Type', y='Price', data=df)"
      ],
      "execution_count": 16,
      "outputs": [
        {
          "output_type": "display_data",
          "data": {
            "image/png": "[encoded data removed]",
            "text/plain": [
              "<Figure size 432x288 with 1 Axes>"
            ]
          },
          "metadata": {
            "tags": [],
            "needs_background": "light"
          }
        }
      ]
    },
    {
      "cell_type": "markdown",
      "metadata": {
        "id": "5odMMateFFUI"
      },
      "source": [
        "4.2 Histogram\n",
        "\n",
        "A histogram is a graphical display that uses rectangular bars to show the frequency distribution of a set of numerical data. The histogram enables us to visualize the underlying distribution pattern of our data.\n",
        "\n",
        "The steps required to build a histogram are as follows:\n",
        "\n",
        "1. Split our data into intervals which are called bins.\n",
        "2. Record number of occurrences (frequency) for each number in your    \n",
        "   dataset and tabulate them into a Frequency Table.\n",
        "3. Plot a histogram based on the Frequency Table obtained from Step 2."
      ]
    },
    {
      "cell_type": "code",
      "metadata": {
        "colab": {
          "base_uri": "https://localhost:8080/",
          "height": 368
        },
        "id": "FU6rA7WvGCtp",
        "outputId": "a8ecb1b5-f781-4a38-ad1c-ca1957cdb113"
      },
      "source": [
        "sns.distplot(df['Price'])"
      ],
      "execution_count": 18,
      "outputs": [
        {
          "output_type": "stream",
          "text": [
            "/usr/local/lib/python3.6/dist-packages/seaborn/distributions.py:2551: FutureWarning: `distplot` is a deprecated function and will be removed in a future version. Please adapt your code to use either `displot` (a figure-level function with similar flexibility) or `histplot` (an axes-level function for histograms).\n",
            "  warnings.warn(msg, FutureWarning)\n"
          ],
          "name": "stderr"
        },
        {
          "output_type": "execute_result",
          "data": {
            "text/plain": [
              "<matplotlib.axes._subplots.AxesSubplot at 0x7f4f7d851a58>"
            ]
          },
          "metadata": {
            "tags": []
          },
          "execution_count": 18
        },
        {
          "output_type": "display_data",
          "data": {
            "image/png": "[encoded data removed]",
            "text/plain": [
              "<Figure size 432x288 with 1 Axes>"
            ]
          },
          "metadata": {
            "tags": [],
            "needs_background": "light"
          }
        }
      ]
    },
    {
      "cell_type": "code",
      "metadata": {
        "id": "k5IWlyrNGDDI"
      },
      "source": [
        ""
      ],
      "execution_count": null,
      "outputs": []
    },
    {
      "cell_type": "markdown",
      "metadata": {
        "id": "VyrEdemlGODo"
      },
      "source": [
        "Categorical data\n",
        "\n",
        "    What is the proportion of each type of house (h - house, t — townhouse and u — unit) in our dataset?\n",
        "    Which region has the highest number of property sales?\n",
        "\n",
        "The first question could be addressed by drawing a Pie Chart \n",
        "\n",
        "while a Bar Chart might be a good option to address the second question."
      ]
    },
    {
      "cell_type": "code",
      "metadata": {
        "colab": {
          "base_uri": "https://localhost:8080/",
          "height": 265
        },
        "id": "9Kl_m262GQiE",
        "outputId": "c3e16f1d-78ce-4cf2-ea03-5572455a8441"
      },
      "source": [
        "# Pie Chart\n",
        "type_counts = df['Type'].value_counts()\n",
        "df2 = pd.DataFrame({'house_type': type_counts}, \n",
        "                     index = ['t', 'h', 'u']\n",
        "                   )\n",
        "df2.plot.pie(y='house_type', autopct='%1.1f%%')"
      ],
      "execution_count": 20,
      "outputs": [
        {
          "output_type": "execute_result",
          "data": {
            "text/plain": [
              "<matplotlib.axes._subplots.AxesSubplot at 0x7f4f7d849278>"
            ]
          },
          "metadata": {
            "tags": []
          },
          "execution_count": 20
        },
        {
          "output_type": "display_data",
          "data": {
            "image/png": "[encoded data removed]",
            "text/plain": [
              "<Figure size 432x288 with 1 Axes>"
            ]
          },
          "metadata": {
            "tags": []
          }
        }
      ]
    },
    {
      "cell_type": "code",
      "metadata": {
        "colab": {
          "base_uri": "https://localhost:8080/",
          "height": 285
        },
        "id": "PgKNvjQwGqnr",
        "outputId": "7933502d-8b3d-4768-dd95-5aaa1467663a"
      },
      "source": [
        "# bar graph\n",
        "sns.set(style='darkgrid')\n",
        "ax = sns.countplot(x='Regionname', data=df)"
      ],
      "execution_count": 37,
      "outputs": [
        {
          "output_type": "display_data",
          "data": {
            "image/png": "[encoded data removed]",
            "text/plain": [
              "<Figure size 432x288 with 1 Axes>"
            ]
          },
          "metadata": {
            "tags": []
          }
        }
      ]
    },
    {
      "cell_type": "code",
      "metadata": {
        "id": "mijmBGCWG-6W"
      },
      "source": [
        ""
      ],
      "execution_count": null,
      "outputs": []
    }
  ]
}